{
 "cells": [
  {
   "cell_type": "code",
   "execution_count": 40,
   "metadata": {},
   "outputs": [
    {
     "name": "stdout",
     "output_type": "stream",
     "text": [
      "3\n"
     ]
    }
   ],
   "source": [
    "x = 1\n",
    "y = 2\n",
    "z = x + y\n",
    "print(z)"
   ]
  },
  {
   "cell_type": "code",
   "execution_count": 41,
   "metadata": {},
   "outputs": [
    {
     "name": "stdout",
     "output_type": "stream",
     "text": [
      "dog\n",
      "cat\n",
      "racoon\n",
      "noocar tac god\n"
     ]
    }
   ],
   "source": [
    "slice_this_phrase = \"dog cat racoon\"\n",
    "\n",
    "A_1 = slice_this_phrase[:3]\n",
    "A_2 = slice_this_phrase[4:7]\n",
    "A_3 = slice_this_phrase[8:]\n",
    "print(A_1)\n",
    "print(A_2)\n",
    "print(A_3)\n",
    "backf = slice_this_phrase[-1::-1]\n",
    "print(backf)\n"
   ]
  },
  {
   "cell_type": "code",
   "execution_count": 42,
   "metadata": {},
   "outputs": [
    {
     "name": "stdout",
     "output_type": "stream",
     "text": [
      "['red', 'yellow', 'car']\n",
      "['red', 'yellow', 'car', 'addthisC']\n"
     ]
    }
   ],
   "source": [
    "x = 1\n",
    "y = 4\n",
    "w = \"ooop\"\n",
    "List_T = [\"pink\",\"blue\"]\n",
    "\n",
    "List_one = [x,y,w,List_T]\n",
    "#print(List_one)\n",
    "colours = ['red', 'yellow', 'car']\n",
    "print(colours)\n",
    "colours.append('addthisC')\n",
    "print(colours)"
   ]
  },
  {
   "cell_type": "code",
   "execution_count": 43,
   "metadata": {},
   "outputs": [
    {
     "name": "stdout",
     "output_type": "stream",
     "text": [
      "15\n",
      "2.0\n",
      "<class 'float'>\n",
      "<class 'int'>\n"
     ]
    }
   ],
   "source": [
    "x = 5\n",
    "y = 10\n",
    "z = x + y\n",
    "print(z) # print is a function that, for our simple purposes, will show you in the terminal (or on the page in Jupyter) the data stored in a variable\n",
    "j = y / x\n",
    "print(j)\n",
    "print(type(j)) # printing the type of a variable tells us what data is stored in it, floats are numbers with decimals\n",
    "j = int(j)\n",
    "print((type(j))) # we can also convert j to an integer, and check its worked by printing its new type"
   ]
  },
  {
   "cell_type": "code",
   "execution_count": 44,
   "metadata": {},
   "outputs": [
    {
     "name": "stdout",
     "output_type": "stream",
     "text": [
      "16\n"
     ]
    }
   ],
   "source": [
    "# In this cell, initialise two numeric variables and find their product using the * operator for multiplication and assign this to a new variable.\n",
    "# Print the new variable\n",
    "\n",
    "# The radius of a circle is 2, assume that Pi is 3.14. Assign both of these to suitably named variables and find the area of the circle.\n",
    "# We can find the area of a circle by finding the product of Pi with the radius squared.\n",
    "# You probably don't know hs yet, so use Google to work it out!\n",
    "\n",
    "r = 2\n",
    "q = r*r\n",
    "p = 3.14\n",
    "s = r**q\n",
    "print(s)"
   ]
  },
  {
   "cell_type": "code",
   "execution_count": 45,
   "metadata": {},
   "outputs": [
    {
     "name": "stdout",
     "output_type": "stream",
     "text": [
      "SSffffffffffff dd\n"
     ]
    }
   ],
   "source": [
    "job = \"dd\"\n",
    "name = \"SS\"\n",
    "\n",
    "name_job = f\"{name}ffffffffffff {job}\"\n",
    "print(name_job)"
   ]
  },
  {
   "cell_type": "code",
   "execution_count": 46,
   "metadata": {},
   "outputs": [
    {
     "name": "stdout",
     "output_type": "stream",
     "text": [
      "81\n"
     ]
    }
   ],
   "source": [
    "S = 9\n",
    "i = 9\n",
    "Y = S * i\n",
    "print(Y)\n"
   ]
  },
  {
   "cell_type": "code",
   "execution_count": 47,
   "metadata": {},
   "outputs": [
    {
     "name": "stdout",
     "output_type": "stream",
     "text": [
      "['red', 'blue', 'green']\n",
      "['red', 'blue', 'green', 'purple']\n",
      "['red', 'blue', 'green', 'purple']\n",
      "['red', 'blue', 'green', 'purple', 'turquoise', 'teal']\n",
      "[]\n"
     ]
    }
   ],
   "source": [
    "colours_list = ['red', 'blue', 'green']\n",
    "print(colours_list)\n",
    "colours_list.append('purple') \n",
    "print(colours_list)\n",
    "extra_colours = ['turquoise', 'teal']\n",
    "# colours_list.append(extra_colours)\n",
    "# You can see here it's appended the whole list extra_colours as one item in the list\n",
    "print(colours_list) \n",
    "colours_list.extend(extra_colours)\n",
    "print(colours_list)\n",
    "print(colours_list[4:4]) "
   ]
  },
  {
   "cell_type": "code",
   "execution_count": 48,
   "metadata": {},
   "outputs": [
    {
     "name": "stdout",
     "output_type": "stream",
     "text": [
      "[6, 5, 4, 3, 2, 1, 1]\n",
      "['zamber', 'red', 'green', 'blue']\n"
     ]
    }
   ],
   "source": [
    "numbers_list = [2,3,4,5,1,6,1]\n",
    "# we can sort lists too, here using a method\n",
    "# numbers_list.sort() \n",
    "# print(numbers_list)\n",
    "numbers_list.sort(reverse=True)\n",
    "print(numbers_list) \n",
    "colours_list = ['red', 'blue', 'green', 'zamber']\n",
    "sorted_colours = sorted(colours_list, key=str.lower, reverse=True)\n",
    "#sorted_colours.sort(reverse=False)\n",
    "print(sorted_colours)"
   ]
  },
  {
   "cell_type": "code",
   "execution_count": 5,
   "metadata": {},
   "outputs": [
    {
     "name": "stdout",
     "output_type": "stream",
     "text": [
      "['Will', 'Andy', 'Annie']\n",
      "dict_items([('Will', 'teal'), ('Andy', ['Purple', 'Green', 'Azure']), ('Annie', {'Mondays': 'Red', 'Sundays': 'Orange', 'Other days': 'Black'})])\n",
      "dict_keys(['Will', 'Andy', 'Annie'])\n",
      "dict_values(['teal', ['Purple', 'Green', 'Azure'], {'Mondays': 'Red', 'Sundays': 'Orange', 'Other days': 'Black'}])\n"
     ]
    }
   ],
   "source": [
    "favourite_colours = {'Will':'teal',\n",
    "                     'Andy':['Purple', 'Green', 'Azure'],\n",
    "                     'Annie':{'Mondays':'Red',\n",
    "                              'Sundays':'Orange',\n",
    "                              'Other days':'Black'}}\n",
    "# Here you can see I've stored strongs, lists, and even entire dictionaries inside strings                              \n",
    "# print(favourite_colours) \n",
    "print(list(favourite_colours)) # list(d) will print the keys, in order from a dictionary\n",
    "print(favourite_colours.items()) # Prints all key:value pairs\n",
    "print(favourite_colours.keys()) # Prints all keys\n",
    "print(favourite_colours.values()) # Prints all values"
   ]
  },
  {
   "cell_type": "code",
   "execution_count": 22,
   "metadata": {},
   "outputs": [
    {
     "name": "stdout",
     "output_type": "stream",
     "text": [
      "junk\n"
     ]
    }
   ],
   "source": [
    "Food_shop = { 'macs': 'junk',\n",
    "             'vada' : ['tasty junk','very hot'],\n",
    "             'cost' : {'T':5,'S':6,'d':7,'e':99}}\n",
    "#print(Food_shop.keys())\n",
    "get_mac = Food_shop['macs']\n",
    "print(get_mac)"
   ]
  },
  {
   "cell_type": "code",
   "execution_count": 25,
   "metadata": {},
   "outputs": [
    {
     "name": "stdout",
     "output_type": "stream",
     "text": [
      "    CHILD  SEX         DOB ETHNIC            UPN  MOTHER MC_DOB\n",
      "0  566910    2  27/03/2008   WROM  D051910639385     NaN    NaN\n",
      "1  384923    2  09/09/2011   REFU  L034811502612     NaN    NaN\n",
      "2  709901    1  14/02/2013   ABAN  Y021751958510     NaN    NaN\n",
      "3  550084    2  04/05/2008   AOTH  R095578985099     NaN    NaN\n",
      "4  710229    2  15/04/2002   REFU  Z095096287583     NaN    NaN\n"
     ]
    }
   ],
   "source": [
    "import pandas as pd \n",
    "file_test = 'https://raw.githubusercontent.com/data-to-insight/csc-validator-be-903/main/tests/fake_data/header.csv'\n",
    "\n",
    "test_header = pd.read_csv(file_test)\n",
    "print(test_header.head())"
   ]
  },
  {
   "cell_type": "code",
   "execution_count": 19,
   "metadata": {},
   "outputs": [
    {
     "name": "stdout",
     "output_type": "stream",
     "text": [
      "   s1   s2    s3\n",
      "0   7   ww   ttt\n",
      "1  72  ww2  ttt2\n",
      "2  73  ww3  ttt3\n"
     ]
    }
   ],
   "source": [
    "import pandas as pd\n",
    "df_one = pd.DataFrame([\n",
    "{'s1': 7,\n",
    " 's2':'ww',\n",
    " 's3' : 'ttt'},\n",
    " {'s1': 72,\n",
    " 's2':'ww2',\n",
    " 's3' : 'ttt2'},\n",
    " {'s1': 73,\n",
    " 's2':'ww3',\n",
    " 's3' : 'ttt3'}\n",
    "\n",
    "])\n",
    "print(df_one)"
   ]
  }
 ],
 "metadata": {
  "kernelspec": {
   "display_name": ".venv",
   "language": "python",
   "name": "python3"
  },
  "language_info": {
   "codemirror_mode": {
    "name": "ipython",
    "version": 3
   },
   "file_extension": ".py",
   "mimetype": "text/x-python",
   "name": "python",
   "nbconvert_exporter": "python",
   "pygments_lexer": "ipython3",
   "version": "3.10.13"
  }
 },
 "nbformat": 4,
 "nbformat_minor": 2
}
